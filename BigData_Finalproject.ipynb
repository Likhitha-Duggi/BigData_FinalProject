{
 "cells": [
  {
   "cell_type": "markdown",
   "id": "6963b70e-2713-4600-8fa1-8f010df44ed7",
   "metadata": {
    "jp-MarkdownHeadingCollapsed": true,
    "tags": []
   },
   "source": [
    "# Team Name : Hadoop Heroes \n",
    "### Team Members :\n",
    "##### Akhil Vayunandan Reddy Ankireddypalli\n",
    "##### Haritha Karna\n",
    "##### Sree Krishnakanth Gurram\n",
    "##### Sri Venkata Likhitha Duggi"
   ]
  },
  {
   "cell_type": "markdown",
   "id": "7d4ca9a3-74a6-41fc-ac22-818016c4d741",
   "metadata": {},
   "source": [
    "# Business Research Question"
   ]
  },
  {
   "cell_type": "markdown",
   "id": "7bc6c2e1-052c-4a24-8d06-6f564d736f75",
   "metadata": {},
   "source": [
    "Our core objective is to create a predictive model for accurately estimating trip fare prices. By leveraging source and destination details, trip distance, historical extra charges, passenger count, and airport involvement, this solution aims to provide reliable fare predictions, benefiting both passengers and ride-sharing services. \n",
    "\n",
    "## Business Value\n",
    "1. Enhanced Ride-sharing Services:\n",
    "Accurate fare predictions empower ride-sharing services like yellow taxis to optimize pricing strategies, providing passengers with fair and competitive fares. This fosters customer loyalty and boosts service utilization.\n",
    "\n",
    "2. Passenger Financial Planning:\n",
    "Reliable fare predictions enable passengers to plan their transportation budgets more effectively. Passengers can estimate their trip fare based on distance, pickup and drop off locations. They can make informed decisions about their travel expenses, helping them manage their finances.\n",
    "\n",
    "3. Optimized Traffic Management:\n",
    "Analyzing busy routes provides insights into the flow of traffic and helps transportation authorities and service providers better manage and optimize the use of road infrastructure.\n"
   ]
  },
  {
   "cell_type": "markdown",
   "id": "a57c2f0d-4cbc-444a-8258-4f3c397a0b74",
   "metadata": {},
   "source": [
    "# Dataset Description\n",
    "The New York City Taxi and Limousine Commission (TLC) Trip Record Data is a comprehensive dataset that provides detailed information on taxi and for-hire vehicle trips within New York City. This dataset offers a rich source of information, including trip date and time, pickup and drop-off locations, trip distances, fare amounts, and additional charges. With millions of records, it offers valuable insights into transportation trends, passenger behaviors, and traffic patterns. Researchers, analysts, and businesses can utilize this dataset for various applications, including transportation optimization, urban planning, and data-driven decision-making in the transportation industry.\n",
    "\n",
    "Prior to loading the data for this project, we created anothe ipynb file that converts PARQUET file to csv file and performed data cleaning on it."
   ]
  },
  {
   "cell_type": "markdown",
   "id": "57cae56d-3c5b-4d82-b86c-309f810f7bae",
   "metadata": {},
   "source": [
    "### Features\n",
    "1. VendorID : A code indicating the TPEP provider that provided the record. 1= Creative Mobile Technologies, LLC; 2= VeriFone Inc\n",
    "2. tpep_pickup_datetime : The date and time when the meter was engaged\n",
    "3. tpep_dropoff_datetime : The date and time when the meter was disengaged\n",
    "4. Passenger_count : The number of passengers in the vehicle. This is a driver-entered value\n",
    "5. Trip_distance : The elapsed trip distance in miles reported by the taximeter\n",
    "6. PULocationID : TLC Taxi Zone in which the taximeter was engaged\n",
    "7. DOLocationID : TLC Taxi Zone in which the taximeter was disengaged\n",
    "8. Fare_amount : The time-and-distance fare calculated by the meter\n",
    "9. Extra : Miscellaneous extras and surcharges\n",
    "10. Tip_amount : This field is automatically populated for credit card tips. Cash tips are not included\n",
    "11. Total_amount : The total amount charged to passengers. Does not include cash tips\n",
    "12. Airport_fee : $1.25 for pick up only at LaGuardia and John F. Kennedy Airports"
   ]
  },
  {
   "cell_type": "markdown",
   "id": "0edd0f75-7576-43bb-b3a8-349753af8574",
   "metadata": {},
   "source": [
    "## Choice of Models\n",
    "Our problem is predicting a continuous variable and hence it falls under Regression analysis. We will be building three models to predict the fare amount:\n",
    "    \n",
    "1. Linear Regression\n",
    "2. Decision Tree\n",
    "3. Random Forest\n"
   ]
  },
  {
   "cell_type": "markdown",
   "id": "c5eff9ef-fd43-48eb-beee-f6adfa83da94",
   "metadata": {},
   "source": [
    "# Data Explorations that we plan on doing:\n",
    "1. Number of trips by each vendor\n",
    "2. Number of trips by pickup and dropoff location\n",
    "3. Which vendor provides a better service?\n",
    "4. What is the average fare for the trips with extra charges?\n",
    "5. What is the average total amount collected for trips with more than 2 passengers ?\n",
    "6. What is the average trip distance for each passenger count?\n",
    "7. What is the relation between trip distance and fare amount ?\n"
   ]
  },
  {
   "cell_type": "markdown",
   "id": "c9e292f0-f9fe-4b1a-ac14-a9b497382e19",
   "metadata": {},
   "source": [
    "### Importing libraries and creating spark context "
   ]
  },
  {
   "cell_type": "code",
   "execution_count": 1,
   "id": "0ec40f5b-20d3-4fd8-a140-37eb1ac7605c",
   "metadata": {},
   "outputs": [],
   "source": [
    "from pyspark.sql import SparkSession\n",
    "from pyspark.conf import SparkConf"
   ]
  },
  {
   "cell_type": "code",
   "execution_count": 2,
   "id": "b6886c32-b7d1-462b-a59d-2d54e12075e6",
   "metadata": {},
   "outputs": [
    {
     "name": "stderr",
     "output_type": "stream",
     "text": [
      "23/11/10 17:29:11 WARN Utils: Your hostname, localhost.localdomain resolves to a loopback address: 127.0.0.1; using 10.21.10.196 instead (on interface eth0)\n",
      "23/11/10 17:29:11 WARN Utils: Set SPARK_LOCAL_IP if you need to bind to another address\n",
      "Setting default log level to \"WARN\".\n",
      "To adjust logging level use sc.setLogLevel(newLevel). For SparkR, use setLogLevel(newLevel).\n",
      "23/11/10 17:29:12 WARN NativeCodeLoader: Unable to load native-hadoop library for your platform... using builtin-java classes where applicable\n"
     ]
    },
    {
     "name": "stdout",
     "output_type": "stream",
     "text": [
      "Spark Session WebUI Port: 4040\n"
     ]
    }
   ],
   "source": [
    "#datawarehouse_location points to the default location for managed databases and tables\n",
    "from os.path import abspath\n",
    "warehouse_location = abspath('spark-warehouse')\n",
    "spark = SparkSession.builder \\\n",
    "        .master(\"local[*]\") \\\n",
    "        .appName(\"ISM6562 Spark Project\") \\\n",
    "        .enableHiveSupport() \\\n",
    "        .getOrCreate()\n",
    "\n",
    "spark_session_port = spark.sparkContext.uiWebUrl.split(\":\")[-1]\n",
    "print(\"Spark Session WebUI Port: \" + spark_session_port)"
   ]
  },
  {
   "cell_type": "code",
   "execution_count": 3,
   "id": "9c94ff0d-19b6-4393-af94-c2cb2371f31a",
   "metadata": {},
   "outputs": [
    {
     "data": {
      "text/html": [
       "\n",
       "            <div>\n",
       "                <p><b>SparkSession - hive</b></p>\n",
       "                \n",
       "        <div>\n",
       "            <p><b>SparkContext</b></p>\n",
       "\n",
       "            <p><a href=\"http://linux:4040\">Spark UI</a></p>\n",
       "\n",
       "            <dl>\n",
       "              <dt>Version</dt>\n",
       "                <dd><code>v3.5.0</code></dd>\n",
       "              <dt>Master</dt>\n",
       "                <dd><code>local[*]</code></dd>\n",
       "              <dt>AppName</dt>\n",
       "                <dd><code>ISM6562 Spark Project</code></dd>\n",
       "            </dl>\n",
       "        </div>\n",
       "        \n",
       "            </div>\n",
       "        "
      ],
      "text/plain": [
       "<pyspark.sql.session.SparkSession at 0x7f1e73f8ac50>"
      ]
     },
     "execution_count": 3,
     "metadata": {},
     "output_type": "execute_result"
    }
   ],
   "source": [
    "spark "
   ]
  },
  {
   "cell_type": "markdown",
   "id": "04d14593-b6f6-497e-9ebf-dba56d7c426c",
   "metadata": {},
   "source": [
    "## Load data to spark dataframe "
   ]
  },
  {
   "cell_type": "code",
   "execution_count": 4,
   "id": "a3489589-7f06-4e63-840f-82369b7da5ce",
   "metadata": {},
   "outputs": [
    {
     "name": "stderr",
     "output_type": "stream",
     "text": [
      "                                                                                \r"
     ]
    },
    {
     "name": "stdout",
     "output_type": "stream",
     "text": [
      "+--------+--------------------+---------------------+---------------+-------------+------------+------------+-----------+-----+----------+------------+-----------+\n",
      "|VendorID|tpep_pickup_datetime|tpep_dropoff_datetime|passenger_count|trip_distance|PULocationID|DOLocationID|fare_amount|extra|tip_amount|total_amount|airport_fee|\n",
      "+--------+--------------------+---------------------+---------------+-------------+------------+------------+-----------+-----+----------+------------+-----------+\n",
      "|       1|    02-01-2022 00:06|     02-01-2022 00:19|              1|          5.4|         138|         252|       17.0| 1.75|       3.9|       23.45|       1.25|\n",
      "|       1|    02-01-2022 00:38|     02-01-2022 00:55|              1|          6.4|         138|          41|       21.0| 1.75|       0.0|        30.1|       1.25|\n",
      "|       1|    02-01-2022 00:03|     02-01-2022 00:26|              1|         12.5|         138|         200|       35.5| 1.75|       0.0|        44.6|       1.25|\n",
      "|       2|    02-01-2022 00:08|     02-01-2022 00:28|              1|         9.88|         239|         200|       28.0|  0.5|       0.0|        34.8|        0.0|\n",
      "|       2|    02-01-2022 00:06|     02-01-2022 00:33|              1|        12.16|         138|         125|       35.5|  0.5|      8.11|       48.66|       1.25|\n",
      "|       1|    02-01-2022 00:57|     02-01-2022 01:07|              2|          2.3|         140|         142|       10.0|  3.0|      2.75|       16.55|        0.0|\n",
      "|       1|    02-01-2022 00:34|     02-01-2022 01:01|              1|          7.5|         140|          36|       25.0|  3.0|       5.0|        33.8|        0.0|\n",
      "|       2|    02-01-2022 00:03|     02-01-2022 00:07|              1|         0.88|          48|          68|        5.0|  0.5|      1.76|       10.56|        0.0|\n",
      "|       2|    02-01-2022 00:13|     02-01-2022 00:31|              1|         6.48|         142|         244|       21.0|  0.5|      4.96|       29.76|        0.0|\n",
      "|       2|    02-01-2022 00:52|     02-01-2022 01:02|              1|         3.29|         238|         116|       12.0|  0.5|      2.66|       15.96|        0.0|\n",
      "+--------+--------------------+---------------------+---------------+-------------+------------+------------+-----------+-----+----------+------------+-----------+\n",
      "only showing top 10 rows\n",
      "\n"
     ]
    }
   ],
   "source": [
    "trips = spark.read.csv('data/yellow_tripdata_2022-02.csv' , header = True , inferSchema=True)\n",
    "\n",
    "# display the first 10 rows of the dataframe \n",
    "trips.show(10)"
   ]
  },
  {
   "cell_type": "code",
   "execution_count": 5,
   "id": "debbb973-8afc-4909-b21f-aa8584e233ce",
   "metadata": {},
   "outputs": [
    {
     "name": "stdout",
     "output_type": "stream",
     "text": [
      "root\n",
      " |-- VendorID: integer (nullable = true)\n",
      " |-- tpep_pickup_datetime: string (nullable = true)\n",
      " |-- tpep_dropoff_datetime: string (nullable = true)\n",
      " |-- passenger_count: integer (nullable = true)\n",
      " |-- trip_distance: double (nullable = true)\n",
      " |-- PULocationID: integer (nullable = true)\n",
      " |-- DOLocationID: integer (nullable = true)\n",
      " |-- fare_amount: double (nullable = true)\n",
      " |-- extra: double (nullable = true)\n",
      " |-- tip_amount: double (nullable = true)\n",
      " |-- total_amount: double (nullable = true)\n",
      " |-- airport_fee: double (nullable = true)\n",
      "\n"
     ]
    }
   ],
   "source": [
    "trips.printSchema()"
   ]
  },
  {
   "cell_type": "markdown",
   "id": "90d0a620-8162-4f69-a9dd-efc39b25bbe6",
   "metadata": {},
   "source": [
    "## Data-preprocessing"
   ]
  },
  {
   "cell_type": "markdown",
   "id": "33076401-df5f-4798-a81b-7952435da69d",
   "metadata": {},
   "source": [
    "Create a database and table in spark "
   ]
  },
  {
   "cell_type": "code",
   "execution_count": 6,
   "id": "301162ab-4760-406c-a07b-ddff5094d785",
   "metadata": {},
   "outputs": [],
   "source": [
    "trips.createOrReplaceTempView(\"trips_tmp_view\")"
   ]
  },
  {
   "cell_type": "code",
   "execution_count": 7,
   "id": "dc7ee74a-31fc-47ff-a6f0-af839804fbb6",
   "metadata": {},
   "outputs": [
    {
     "name": "stdout",
     "output_type": "stream",
     "text": [
      "+--------+--------------------+---------------------+---------------+-------------+------------+------------+-----------+-----+----------+------------+-----------+\n",
      "|VendorID|tpep_pickup_datetime|tpep_dropoff_datetime|passenger_count|trip_distance|PULocationID|DOLocationID|fare_amount|extra|tip_amount|total_amount|airport_fee|\n",
      "+--------+--------------------+---------------------+---------------+-------------+------------+------------+-----------+-----+----------+------------+-----------+\n",
      "|       1|    02-01-2022 00:06|     02-01-2022 00:19|              1|          5.4|         138|         252|       17.0| 1.75|       3.9|       23.45|       1.25|\n",
      "|       1|    02-01-2022 00:38|     02-01-2022 00:55|              1|          6.4|         138|          41|       21.0| 1.75|       0.0|        30.1|       1.25|\n",
      "|       1|    02-01-2022 00:03|     02-01-2022 00:26|              1|         12.5|         138|         200|       35.5| 1.75|       0.0|        44.6|       1.25|\n",
      "|       2|    02-01-2022 00:08|     02-01-2022 00:28|              1|         9.88|         239|         200|       28.0|  0.5|       0.0|        34.8|        0.0|\n",
      "|       2|    02-01-2022 00:06|     02-01-2022 00:33|              1|        12.16|         138|         125|       35.5|  0.5|      8.11|       48.66|       1.25|\n",
      "|       1|    02-01-2022 00:57|     02-01-2022 01:07|              2|          2.3|         140|         142|       10.0|  3.0|      2.75|       16.55|        0.0|\n",
      "|       1|    02-01-2022 00:34|     02-01-2022 01:01|              1|          7.5|         140|          36|       25.0|  3.0|       5.0|        33.8|        0.0|\n",
      "|       2|    02-01-2022 00:03|     02-01-2022 00:07|              1|         0.88|          48|          68|        5.0|  0.5|      1.76|       10.56|        0.0|\n",
      "|       2|    02-01-2022 00:13|     02-01-2022 00:31|              1|         6.48|         142|         244|       21.0|  0.5|      4.96|       29.76|        0.0|\n",
      "|       2|    02-01-2022 00:52|     02-01-2022 01:02|              1|         3.29|         238|         116|       12.0|  0.5|      2.66|       15.96|        0.0|\n",
      "+--------+--------------------+---------------------+---------------+-------------+------------+------------+-----------+-----+----------+------------+-----------+\n",
      "only showing top 10 rows\n",
      "\n"
     ]
    }
   ],
   "source": [
    "df= spark.sql(\"SELECT * FROM trips_tmp_view\")\n",
    "df.show(10)"
   ]
  },
  {
   "cell_type": "code",
   "execution_count": 8,
   "id": "a1c17089-663f-4e4d-9f32-1fa031a5c02c",
   "metadata": {},
   "outputs": [
    {
     "data": {
      "text/plain": [
       "pyspark.sql.dataframe.DataFrame"
      ]
     },
     "execution_count": 8,
     "metadata": {},
     "output_type": "execute_result"
    }
   ],
   "source": [
    "type(trips)"
   ]
  },
  {
   "cell_type": "code",
   "execution_count": 9,
   "id": "9e97fc97-0e77-4a58-84e6-aeb2cd659848",
   "metadata": {},
   "outputs": [
    {
     "name": "stderr",
     "output_type": "stream",
     "text": [
      "23/11/10 17:29:22 WARN HiveConf: HiveConf of name hive.stats.jdbc.timeout does not exist\n",
      "23/11/10 17:29:22 WARN HiveConf: HiveConf of name hive.stats.retries.wait does not exist\n",
      "23/11/10 17:29:25 WARN ObjectStore: Version information not found in metastore. hive.metastore.schema.verification is not enabled so recording the schema version 2.3.0\n",
      "23/11/10 17:29:25 WARN ObjectStore: setMetaStoreSchemaVersion called but recording version is disabled: version = 2.3.0, comment = Set by MetaStore student@127.0.0.1\n"
     ]
    },
    {
     "data": {
      "text/plain": [
       "DataFrame[]"
      ]
     },
     "execution_count": 9,
     "metadata": {},
     "output_type": "execute_result"
    }
   ],
   "source": [
    "spark.sql(\"CREATE DATABASE IF NOT EXISTS trips_db;\")"
   ]
  },
  {
   "cell_type": "code",
   "execution_count": 10,
   "id": "83572586-5285-4ce3-a93b-4b68d0dcbfc3",
   "metadata": {},
   "outputs": [
    {
     "name": "stderr",
     "output_type": "stream",
     "text": [
      "23/11/10 17:29:26 WARN ObjectStore: Failed to get database global_temp, returning NoSuchObjectException\n",
      "23/11/10 17:29:27 WARN MemoryManager: Total allocation exceeds 95.00% (1,020,054,720 bytes) of heap memory\n",
      "Scaling row group sizes to 95.00% for 8 writers\n",
      "23/11/10 17:29:27 WARN MemoryManager: Total allocation exceeds 95.00% (1,020,054,720 bytes) of heap memory\n",
      "Scaling row group sizes to 84.44% for 9 writers\n",
      "23/11/10 17:29:27 WARN MemoryManager: Total allocation exceeds 95.00% (1,020,054,720 bytes) of heap memory\n",
      "Scaling row group sizes to 76.00% for 10 writers\n",
      "23/11/10 17:29:27 WARN MemoryManager: Total allocation exceeds 95.00% (1,020,054,720 bytes) of heap memory\n",
      "Scaling row group sizes to 69.09% for 11 writers\n",
      "23/11/10 17:29:27 WARN MemoryManager: Total allocation exceeds 95.00% (1,020,054,720 bytes) of heap memory\n",
      "Scaling row group sizes to 63.33% for 12 writers\n",
      "23/11/10 17:29:27 WARN MemoryManager: Total allocation exceeds 95.00% (1,020,054,720 bytes) of heap memory\n",
      "Scaling row group sizes to 58.46% for 13 writers\n",
      "23/11/10 17:29:27 WARN MemoryManager: Total allocation exceeds 95.00% (1,020,054,720 bytes) of heap memory\n",
      "Scaling row group sizes to 54.29% for 14 writers\n",
      "23/11/10 17:29:27 WARN MemoryManager: Total allocation exceeds 95.00% (1,020,054,720 bytes) of heap memory\n",
      "Scaling row group sizes to 50.67% for 15 writers\n",
      "23/11/10 17:29:27 WARN MemoryManager: Total allocation exceeds 95.00% (1,020,054,720 bytes) of heap memory\n",
      "Scaling row group sizes to 47.50% for 16 writers\n",
      "23/11/10 17:29:28 WARN MemoryManager: Total allocation exceeds 95.00% (1,020,054,720 bytes) of heap memory\n",
      "Scaling row group sizes to 50.67% for 15 writers\n",
      "23/11/10 17:29:28 WARN MemoryManager: Total allocation exceeds 95.00% (1,020,054,720 bytes) of heap memory\n",
      "Scaling row group sizes to 54.29% for 14 writers\n",
      "23/11/10 17:29:28 WARN MemoryManager: Total allocation exceeds 95.00% (1,020,054,720 bytes) of heap memory\n",
      "Scaling row group sizes to 58.46% for 13 writers\n",
      "23/11/10 17:29:28 WARN MemoryManager: Total allocation exceeds 95.00% (1,020,054,720 bytes) of heap memory\n",
      "Scaling row group sizes to 63.33% for 12 writers\n",
      "23/11/10 17:29:28 WARN MemoryManager: Total allocation exceeds 95.00% (1,020,054,720 bytes) of heap memory\n",
      "Scaling row group sizes to 69.09% for 11 writers\n",
      "23/11/10 17:29:28 WARN MemoryManager: Total allocation exceeds 95.00% (1,020,054,720 bytes) of heap memory\n",
      "Scaling row group sizes to 76.00% for 10 writers\n",
      "23/11/10 17:29:28 WARN MemoryManager: Total allocation exceeds 95.00% (1,020,054,720 bytes) of heap memory\n",
      "Scaling row group sizes to 84.44% for 9 writers\n",
      "23/11/10 17:29:28 WARN MemoryManager: Total allocation exceeds 95.00% (1,020,054,720 bytes) of heap memory\n",
      "Scaling row group sizes to 95.00% for 8 writers\n",
      "23/11/10 17:29:28 WARN SessionState: METASTORE_FILTER_HOOK will be ignored, since hive.security.authorization.manager is set to instance of HiveAuthorizerFactory.\n",
      "23/11/10 17:29:29 WARN HiveConf: HiveConf of name hive.internal.ss.authz.settings.applied.marker does not exist\n",
      "23/11/10 17:29:29 WARN HiveConf: HiveConf of name hive.stats.jdbc.timeout does not exist\n",
      "23/11/10 17:29:29 WARN HiveConf: HiveConf of name hive.stats.retries.wait does not exist\n"
     ]
    }
   ],
   "source": [
    "trips.write.mode(\"overwrite\").saveAsTable(\"trips_db.trips\")"
   ]
  },
  {
   "cell_type": "markdown",
   "id": "526d4d18-333d-46e9-b76d-e4d939d068c1",
   "metadata": {},
   "source": [
    "Listing tables in the created database"
   ]
  },
  {
   "cell_type": "code",
   "execution_count": 11,
   "id": "89c96b81-a5e7-4ca3-8d52-7da53fa23504",
   "metadata": {},
   "outputs": [
    {
     "data": {
      "text/plain": [
       "[Table(name='trips', catalog='spark_catalog', namespace=['trips_db'], description=None, tableType='MANAGED', isTemporary=False),\n",
       " Table(name='trips_tmp_view', catalog=None, namespace=[], description=None, tableType='TEMPORARY', isTemporary=True)]"
      ]
     },
     "execution_count": 11,
     "metadata": {},
     "output_type": "execute_result"
    }
   ],
   "source": [
    "spark.catalog.listTables('trips_db')"
   ]
  },
  {
   "cell_type": "code",
   "execution_count": 12,
   "id": "25ed0b4b-1ce5-4e0a-9e8d-dcb66b6d63be",
   "metadata": {},
   "outputs": [
    {
     "name": "stdout",
     "output_type": "stream",
     "text": [
      "+--------+--------------------+---------------------+---------------+-------------+------------+------------+-----------+-----+----------+------------+-----------+\n",
      "|VendorID|tpep_pickup_datetime|tpep_dropoff_datetime|passenger_count|trip_distance|PULocationID|DOLocationID|fare_amount|extra|tip_amount|total_amount|airport_fee|\n",
      "+--------+--------------------+---------------------+---------------+-------------+------------+------------+-----------+-----+----------+------------+-----------+\n",
      "|       2|    02-01-2022 20:44|     02-01-2022 21:08|              1|         5.74|         107|           7|       20.5|  0.5|      4.86|       29.16|        0.0|\n",
      "|       1|    02-01-2022 20:35|     02-01-2022 20:44|              1|          1.3|         230|         229|        7.0|  3.0|       0.0|        10.8|        0.0|\n",
      "|       2|    02-01-2022 20:11|     02-01-2022 20:33|              1|         4.37|          79|         236|       18.0|  0.5|      4.36|       26.16|        0.0|\n",
      "|       2|    02-01-2022 20:49|     02-01-2022 20:52|              1|         0.46|         162|         229|        4.0|  0.5|       5.0|        12.8|        0.0|\n",
      "|       1|    02-01-2022 20:33|     02-01-2022 20:37|              1|          0.6|         211|         113|        4.5|  3.0|      1.65|        9.95|        0.0|\n",
      "|       1|    02-01-2022 20:48|     02-01-2022 21:06|              1|          2.3|         170|          48|       12.5|  3.0|      3.26|       19.56|        0.0|\n",
      "|       1|    02-01-2022 20:03|     02-01-2022 20:12|              1|          1.7|         236|         237|        8.5|  3.0|      3.05|       15.35|        0.0|\n",
      "|       1|    02-01-2022 20:49|     02-01-2022 20:58|              1|          1.8|         263|         237|        9.0|  3.0|      2.55|       15.35|        0.0|\n",
      "|       2|    02-01-2022 20:04|     02-01-2022 20:15|              2|         2.32|         161|         113|       10.0|  0.5|      2.48|       16.28|        0.0|\n",
      "|       2|    02-01-2022 20:35|     02-01-2022 20:48|              2|         3.42|         113|         237|       12.5|  0.5|       2.0|        18.3|        0.0|\n",
      "+--------+--------------------+---------------------+---------------+-------------+------------+------------+-----------+-----+----------+------------+-----------+\n",
      "only showing top 10 rows\n",
      "\n"
     ]
    }
   ],
   "source": [
    "df = spark.sql(\"SELECT * FROM trips_db.trips\")\n",
    "df.show(10)"
   ]
  },
  {
   "cell_type": "code",
   "execution_count": 13,
   "id": "1191fdeb-d330-442d-91a9-1eecf996d91e",
   "metadata": {},
   "outputs": [
    {
     "name": "stdout",
     "output_type": "stream",
     "text": [
      "+--------------------+---------+-------+\n",
      "|            col_name|data_type|comment|\n",
      "+--------------------+---------+-------+\n",
      "|            VendorID|      int|   NULL|\n",
      "|tpep_pickup_datetime|   string|   NULL|\n",
      "|tpep_dropoff_date...|   string|   NULL|\n",
      "|     passenger_count|      int|   NULL|\n",
      "|       trip_distance|   double|   NULL|\n",
      "|        PULocationID|      int|   NULL|\n",
      "|        DOLocationID|      int|   NULL|\n",
      "|         fare_amount|   double|   NULL|\n",
      "|               extra|   double|   NULL|\n",
      "|          tip_amount|   double|   NULL|\n",
      "|        total_amount|   double|   NULL|\n",
      "|         airport_fee|   double|   NULL|\n",
      "+--------------------+---------+-------+\n",
      "\n"
     ]
    }
   ],
   "source": [
    "df = spark.sql(\" describe trips_db.trips\")\n",
    "df.show()"
   ]
  },
  {
   "cell_type": "markdown",
   "id": "2f081b31-c4cc-4ce8-9aa8-6c3812bf019a",
   "metadata": {},
   "source": [
    "# Data Exploration using PySpark SQL"
   ]
  },
  {
   "cell_type": "markdown",
   "id": "0a1c60ca-7aaf-40dc-9fe7-cd2ca47c5b2b",
   "metadata": {},
   "source": [
    "### Number of trips by each Vendor"
   ]
  },
  {
   "cell_type": "code",
   "execution_count": 14,
   "id": "06e7b8ed-051c-4701-8942-756f75764bc1",
   "metadata": {},
   "outputs": [
    {
     "name": "stdout",
     "output_type": "stream",
     "text": [
      "Number of trips taken by Vendor 1 - Creative Mobile Technologies, LLC: 319007\n"
     ]
    }
   ],
   "source": [
    "vendor1_trips = spark.sql(\"\"\"SELECT COUNT(VendorID) as vendorID1 \n",
    "    FROM trips_db.trips \n",
    "    WHERE VendorID=1\"\"\")\n",
    "\n",
    "vendor1_trips_1=vendor1_trips.first().vendorID1\n",
    "\n",
    "print(\"Number of trips taken by Vendor 1 - Creative Mobile Technologies, LLC:\", vendor1_trips_1)"
   ]
  },
  {
   "cell_type": "code",
   "execution_count": 15,
   "id": "c9ca31f3-d6ca-4f0d-b1f3-781ab91baf6a",
   "metadata": {},
   "outputs": [
    {
     "name": "stdout",
     "output_type": "stream",
     "text": [
      "Number of trips taken by Vendor 2 - VeriFone Inc: 724578\n"
     ]
    }
   ],
   "source": [
    "vendor2_trips = spark.sql(\"\"\"SELECT COUNT(VendorID) as vendorID2 \n",
    "    FROM trips_db.trips \n",
    "    WHERE VendorID=2\"\"\")\n",
    "\n",
    "vendor2_trips_2=vendor2_trips.first().vendorID2\n",
    "\n",
    "print(\"Number of trips taken by Vendor 2 - VeriFone Inc:\", vendor2_trips_2)"
   ]
  },
  {
   "cell_type": "code",
   "execution_count": 16,
   "id": "6e344020-675b-45aa-94c0-408e3f1653b2",
   "metadata": {},
   "outputs": [
    {
     "data": {
      "image/png": "[encoded data removed]",
      "text/plain": [
       "<Figure size 640x480 with 1 Axes>"
      ]
     },
     "metadata": {},
     "output_type": "display_data"
    }
   ],
   "source": [
    "import matplotlib.pyplot as plt\n",
    "\n",
    "# Convert the result to Pandas for easy plotting\n",
    "vendor1_count = vendor1_trips.toPandas()['vendorID1'][0]\n",
    "vendor2_count = vendor2_trips.toPandas()['vendorID2'][0]\n",
    "\n",
    "# Plotting the bar chart\n",
    "vendors = ['VendorID 1', 'VendorID 2']\n",
    "counts = [vendor1_count, vendor2_count]\n",
    "\n",
    "plt.bar(vendors, counts, color=['blue', 'green'])\n",
    "plt.title('Number of Trips for VendorID 1 and VendorID 2')\n",
    "plt.xlabel('VendorID')\n",
    "plt.ylabel('Number of Trips')\n",
    "plt.show()\n"
   ]
  },
  {
   "cell_type": "markdown",
   "id": "18a400ca-9567-459d-a501-61836ea92a33",
   "metadata": {},
   "source": [
    "Analysis:\n",
    "\n",
    "Creative Mobile Technologies LLC and VeriFone Inc had 319007, 724578 trips each in total\n",
    "VeriFone Inc took more than twice the number of trips of Creative Mobile Technologies LLC"
   ]
  },
  {
   "cell_type": "markdown",
   "id": "49cc9ecf-90b7-460e-b194-2775ca344c75",
   "metadata": {},
   "source": [
    "### Number of trips by pickup and dropoff location "
   ]
  },
  {
   "cell_type": "code",
   "execution_count": 17,
   "id": "00c9da14-a388-49a4-842c-b71b8f621280",
   "metadata": {},
   "outputs": [
    {
     "name": "stderr",
     "output_type": "stream",
     "text": [
      "                                                                                \r"
     ]
    },
    {
     "name": "stdout",
     "output_type": "stream",
     "text": [
      "   PULocationID  pickup_count\n",
      "0           237         55209\n",
      "1           236         52974\n",
      "2           161         41126\n",
      "3           162         35420\n",
      "4           142         34384\n",
      "5           186         34369\n",
      "6           170         33203\n",
      "7           132         32341\n",
      "8           239         32263\n",
      "9            48         31510\n"
     ]
    }
   ],
   "source": [
    "# count of each pickup location \n",
    "\n",
    "pickup_trips = spark.sql(\"\"\"SELECT PULocationID, COUNT(*) AS pickup_count \n",
    "    FROM trips_db.trips \n",
    "    GROUP BY PULocationID\n",
    "    ORDER BY pickup_count DESC\"\"\")\n",
    "\n",
    "# Convert the DataFrame to a Pandas DataFrame\n",
    "pickup_trips_pandas = pickup_trips.toPandas()\n",
    "\n",
    "# Print the Pandas DataFrame\n",
    "print(pickup_trips_pandas.head(10))\n"
   ]
  },
  {
   "cell_type": "code",
   "execution_count": 18,
   "id": "50b50bdd-3b0a-469d-aa0b-c65d3d8ab8a6",
   "metadata": {},
   "outputs": [
    {
     "name": "stderr",
     "output_type": "stream",
     "text": [
      "                                                                                \r"
     ]
    },
    {
     "name": "stdout",
     "output_type": "stream",
     "text": [
      "   DOLocationID  dropoff_count\n",
      "0           236          54140\n",
      "1           237          48257\n",
      "2           161          34393\n",
      "3           239          32257\n",
      "4           170          32028\n",
      "5           141          31752\n",
      "6           142          29920\n",
      "7           238          28305\n",
      "8            48          27783\n",
      "9           162          26909\n"
     ]
    }
   ],
   "source": [
    "# count of each dropoff location \n",
    "\n",
    "dropoff_trips = spark.sql(\"\"\"SELECT DOLocationID, COUNT(*) AS dropoff_count \n",
    "    FROM trips_db.trips\n",
    "    GROUP BY DOLocationID \n",
    "    ORDER BY dropoff_count DESC\"\"\")\n",
    "\n",
    "# Convert the DataFrame to a Pandas DataFrame\n",
    "dropoff_trips_pandas = dropoff_trips.toPandas()\n",
    "\n",
    "# Print the Pandas DataFrame\n",
    "print(dropoff_trips_pandas.head(10))\n"
   ]
  },
  {
   "cell_type": "markdown",
   "id": "f54d0186-c62d-417c-8cd0-23aa36857611",
   "metadata": {},
   "source": [
    "The most frequent pick up and drop off location are  Taxi Zones 237 & 236"
   ]
  },
  {
   "cell_type": "markdown",
   "id": "5140b1e3-aef3-4957-8bc7-cd660dfdd124",
   "metadata": {
    "tags": []
   },
   "source": [
    "### Which vendor provides a better service? \n",
    "\n",
    "(Assumption : Tipping being a metric for good service)"
   ]
  },
  {
   "cell_type": "code",
   "execution_count": 19,
   "id": "9404a2c8-82ec-4226-97a7-fc7399bfb86d",
   "metadata": {},
   "outputs": [
    {
     "name": "stdout",
     "output_type": "stream",
     "text": [
      "   VendorID  avg_tip\n",
      "0         2     2.48\n",
      "1         1     2.33\n"
     ]
    }
   ],
   "source": [
    "avg_tip_per_vendor = spark.sql(\"\"\"SELECT VendorID, ROUND(AVG(tip_amount),2) AS avg_tip \n",
    "    FROM trips_db.trips \n",
    "    GROUP BY VendorID \n",
    "    ORDER BY avg_tip DESC \"\"\")\n",
    "\n",
    "avg_tip_per_vendor_pandas=avg_tip_per_vendor.toPandas()\n",
    "print(avg_tip_per_vendor_pandas)"
   ]
  },
  {
   "cell_type": "markdown",
   "id": "9aa8a9e9-fbc8-4859-9c4a-4a4f0ebd032b",
   "metadata": {},
   "source": [
    "Analysis:\n",
    "\n",
    "The avg_tip difference between both vendors is minimal.\n",
    "However, based on the values, Vendor 2's service is better."
   ]
  },
  {
   "cell_type": "markdown",
   "id": "d7115d73-519e-41a9-a5ab-c5801ff5af6d",
   "metadata": {},
   "source": [
    "### What is the average fare for the trips with extra charges? "
   ]
  },
  {
   "cell_type": "code",
   "execution_count": 20,
   "id": "7636ed69-65b0-4aaa-91d5-5d16dac6b8c4",
   "metadata": {},
   "outputs": [
    {
     "name": "stdout",
     "output_type": "stream",
     "text": [
      "Average Fare for trips with extra charge is: $12.13\n"
     ]
    }
   ],
   "source": [
    "avg_fare_amount_extra = spark.sql(\"\"\"SELECT ROUND(AVG(fare_amount),2) as avg_fare_amount \n",
    "    FROM trips_db.trips \n",
    "    WHERE extra > 0\"\"\")\n",
    "\n",
    "# Extract the average fare amount value\n",
    "average_fare = avg_fare_amount_extra.first()[0]\n",
    "\n",
    "# Print the statement\n",
    "print(f\"Average Fare for trips with extra charge is: ${average_fare:.2f}\")"
   ]
  },
  {
   "cell_type": "markdown",
   "id": "4dc9e84a-785b-48ee-8c16-f4dc4c29299b",
   "metadata": {},
   "source": [
    "### What is the average total amount collected for trips with more than 2 passengers ? "
   ]
  },
  {
   "cell_type": "code",
   "execution_count": 21,
   "id": "c096d012-f604-4417-8638-1a7ceddd6c8d",
   "metadata": {},
   "outputs": [
    {
     "name": "stdout",
     "output_type": "stream",
     "text": [
      "Average total amount for trips with more than 2 passengers: $19.23\n"
     ]
    }
   ],
   "source": [
    "avg_total_for_large_groups = spark.sql(\"\"\"SELECT ROUND(AVG(total_amount),2) as total_fare \n",
    "    FROM trips_db.trips  \n",
    "    WHERE passenger_count > 2\"\"\")\n",
    "\n",
    "# Extract the average fare amount value\n",
    "average_total = avg_total_for_large_groups.first()[0]\n",
    "\n",
    "# Print the statement\n",
    "print(f\"Average total amount for trips with more than 2 passengers: ${average_total:.2f}\")"
   ]
  },
  {
   "cell_type": "markdown",
   "id": "1f296b6c-6a5e-4a21-8c1e-926f8dd6ebba",
   "metadata": {},
   "source": [
    "### What is the average trip distance for each passenger count? "
   ]
  },
  {
   "cell_type": "code",
   "execution_count": 22,
   "id": "02432bd3-06e0-47b9-a245-69b08c7e5c27",
   "metadata": {},
   "outputs": [
    {
     "name": "stdout",
     "output_type": "stream",
     "text": [
      "   passenger_count  avg_distance\n",
      "0                0          2.61\n",
      "1                1          2.84\n",
      "2                2          3.23\n",
      "3                3          3.02\n",
      "4                4          3.10\n",
      "5                5          2.90\n",
      "6                6          2.92\n",
      "7                7          0.73\n",
      "8                8          1.66\n",
      "9                9          0.00\n"
     ]
    }
   ],
   "source": [
    "avg_distance_per_passenger = spark.sql(\"\"\"SELECT passenger_count, ROUND(AVG(trip_distance),2) as avg_distance \n",
    "    FROM trips_db.trips \n",
    "    GROUP BY passenger_count\n",
    "    ORDER BY passenger_count\"\"\")\n",
    "\n",
    "avg_distance_per_passenger_pandas = avg_distance_per_passenger.toPandas()\n",
    "print(avg_distance_per_passenger_pandas)"
   ]
  },
  {
   "cell_type": "code",
   "execution_count": 23,
   "id": "c4be7b1a-5a2b-4043-8aac-fa56bd14c797",
   "metadata": {},
   "outputs": [
    {
     "data": {
      "image/png": "[encoded data removed]",
      "text/plain": [
       "<Figure size 640x480 with 1 Axes>"
      ]
     },
     "metadata": {},
     "output_type": "display_data"
    }
   ],
   "source": [
    "import matplotlib.pyplot as plt\n",
    "\n",
    "plt.bar(avg_distance_per_passenger_pandas['passenger_count'], avg_distance_per_passenger_pandas['avg_distance'], color='lightgreen', alpha=0.7)\n",
    "plt.xlabel('Passenger Count')\n",
    "plt.ylabel('Average Distance')\n",
    "plt.title('Average Distance per Passenger Count')\n",
    "plt.show() "
   ]
  },
  {
   "cell_type": "markdown",
   "id": "645cd378-8fab-437f-a5e3-52c2d885026c",
   "metadata": {},
   "source": [
    "### What is the relation between trip distance and fare amount ? "
   ]
  },
  {
   "cell_type": "code",
   "execution_count": 24,
   "id": "1dbd5181-ab8e-4ee6-b477-178c64dec3fe",
   "metadata": {},
   "outputs": [
    {
     "data": {
      "image/png": "[encoded data removed]",
      "text/plain": [
       "<Figure size 1000x600 with 1 Axes>"
      ]
     },
     "metadata": {},
     "output_type": "display_data"
    }
   ],
   "source": [
    "trips_pd = trips.toPandas()\n",
    "\n",
    "# Scatter plot\n",
    "plt.figure(figsize=(10, 6))\n",
    "plt.scatter(trips_pd['trip_distance'], trips_pd['fare_amount'], alpha=0.5)\n",
    "plt.title('Trip distance Vs Fare amount')\n",
    "plt.xlabel('Trip Distance (miles)')\n",
    "plt.ylabel('Fare Amount ($)')\n",
    "plt.grid(True)\n",
    "plt.show()"
   ]
  },
  {
   "cell_type": "markdown",
   "id": "f4afdd9e-a182-4177-ac47-e19e777bb19e",
   "metadata": {},
   "source": [
    "Analysis\n",
    "\n",
    "From the above scatter plot, general trend seems to increase in fare amount for every additional mile travelled . \n",
    "Negative fares might represent refund amount for cancelled trips.\n",
    "Zero fare amount for distance travelled may represnt promotional offers for the ride. \n",
    "Fare amounts for zero distance travelled might be cancellation of trips after late cancellation or minimum fare charged regardless of distance travelled. "
   ]
  },
  {
   "cell_type": "markdown",
   "id": "8df7039d-3818-4e56-a257-ebaaf5e85254",
   "metadata": {},
   "source": [
    "## Understanding the dataset's structure and Data Cleaning"
   ]
  },
  {
   "cell_type": "code",
   "execution_count": 25,
   "id": "b771ec18-b2bc-41de-b338-46133842f08f",
   "metadata": {},
   "outputs": [
    {
     "data": {
      "text/plain": [
       "['VendorID',\n",
       " 'tpep_pickup_datetime',\n",
       " 'tpep_dropoff_datetime',\n",
       " 'passenger_count',\n",
       " 'trip_distance',\n",
       " 'PULocationID',\n",
       " 'DOLocationID',\n",
       " 'fare_amount',\n",
       " 'extra',\n",
       " 'tip_amount',\n",
       " 'total_amount',\n",
       " 'airport_fee']"
      ]
     },
     "execution_count": 25,
     "metadata": {},
     "output_type": "execute_result"
    }
   ],
   "source": [
    "# Retreving column names\n",
    "trips.columns"
   ]
  },
  {
   "cell_type": "code",
   "execution_count": 26,
   "id": "c46049d1-e351-4a5f-874c-85ee15360487",
   "metadata": {},
   "outputs": [
    {
     "name": "stdout",
     "output_type": "stream",
     "text": [
      "Number of rows: 1043585\n",
      "Number of columns: 12\n"
     ]
    }
   ],
   "source": [
    "# number of rows\n",
    "num_rows = trips.count()\n",
    "\n",
    "#  number of columns\n",
    "num_columns = len(trips.columns)\n",
    "\n",
    "print(\"Number of rows: {}\".format(num_rows))\n",
    "print(\"Number of columns: {}\".format(num_columns))\n"
   ]
  },
  {
   "cell_type": "code",
   "execution_count": 27,
   "id": "b73154c0-9de3-40c6-8b35-6351230aa521",
   "metadata": {},
   "outputs": [
    {
     "name": "stdout",
     "output_type": "stream",
     "text": [
      "root\n",
      " |-- VendorID: integer (nullable = true)\n",
      " |-- tpep_pickup_datetime: string (nullable = true)\n",
      " |-- tpep_dropoff_datetime: string (nullable = true)\n",
      " |-- passenger_count: integer (nullable = true)\n",
      " |-- trip_distance: double (nullable = true)\n",
      " |-- PULocationID: integer (nullable = true)\n",
      " |-- DOLocationID: integer (nullable = true)\n",
      " |-- fare_amount: double (nullable = true)\n",
      " |-- extra: double (nullable = true)\n",
      " |-- tip_amount: double (nullable = true)\n",
      " |-- total_amount: double (nullable = true)\n",
      " |-- airport_fee: double (nullable = true)\n",
      "\n"
     ]
    }
   ],
   "source": [
    "trips.printSchema()"
   ]
  },
  {
   "cell_type": "markdown",
   "id": "62a755c4-9fbb-4c61-ab2f-7063edd5b896",
   "metadata": {
    "tags": []
   },
   "source": [
    "## Extracting required columns for analysis."
   ]
  },
  {
   "cell_type": "code",
   "execution_count": 28,
   "id": "63945e58-b2f7-47dd-ab4d-5b0119cb1469",
   "metadata": {},
   "outputs": [],
   "source": [
    "selected_columns = ['VendorID', 'passenger_count', 'trip_distance', 'PULocationID', 'DOLocationID', 'fare_amount', 'extra', 'airport_fee']"
   ]
  },
  {
   "cell_type": "code",
   "execution_count": 29,
   "id": "8149d566-cb5a-4f1f-8cfc-55432abfe34e",
   "metadata": {},
   "outputs": [],
   "source": [
    "selected_data = trips.select(selected_columns)"
   ]
  },
  {
   "cell_type": "code",
   "execution_count": 30,
   "id": "e6498c8f-730a-42d0-aea7-5613576a4ff4",
   "metadata": {},
   "outputs": [],
   "source": [
    "# Drop rowns with any null values \n",
    "selected_data = selected_data.dropna() "
   ]
  },
  {
   "cell_type": "code",
   "execution_count": 31,
   "id": "7874a3f0-737b-4c12-a029-d42fc9fbdaa8",
   "metadata": {},
   "outputs": [
    {
     "name": "stdout",
     "output_type": "stream",
     "text": [
      "root\n",
      " |-- VendorID: integer (nullable = true)\n",
      " |-- passenger_count: integer (nullable = true)\n",
      " |-- trip_distance: double (nullable = true)\n",
      " |-- PULocationID: integer (nullable = true)\n",
      " |-- DOLocationID: integer (nullable = true)\n",
      " |-- fare_amount: double (nullable = true)\n",
      " |-- extra: double (nullable = true)\n",
      " |-- airport_fee: double (nullable = true)\n",
      "\n"
     ]
    }
   ],
   "source": [
    "selected_data.printSchema()"
   ]
  },
  {
   "cell_type": "markdown",
   "id": "922cd898-8805-495f-a0aa-8de9f83ed370",
   "metadata": {},
   "source": [
    "Now that we have our data ready, let's do a train test split (70/30)."
   ]
  },
  {
   "cell_type": "code",
   "execution_count": 32,
   "id": "d61fcb05-1fab-479f-93d8-b856bef6cfeb",
   "metadata": {},
   "outputs": [],
   "source": [
    "train_data,test_data=selected_data.randomSplit([0.7,0.3])"
   ]
  },
  {
   "cell_type": "code",
   "execution_count": 33,
   "id": "5a69e92b-e8c3-4a6a-99e1-739a0746bc9c",
   "metadata": {},
   "outputs": [],
   "source": [
    "# Vector assembler is used to create a vector of input features\n",
    "\n",
    "feature_cols = ['VendorID', 'passenger_count', 'trip_distance', 'PULocationID', 'DOLocationID', 'extra', 'airport_fee']"
   ]
  },
  {
   "cell_type": "code",
   "execution_count": 34,
   "id": "ac2afead-b771-4074-93af-23b9f54b816a",
   "metadata": {},
   "outputs": [],
   "source": [
    "from pyspark.ml.feature import VectorAssembler\n",
    "assembler = VectorAssembler(\n",
    "    inputCols=feature_cols,\n",
    "    outputCol=\"features\"\n",
    ")"
   ]
  },
  {
   "cell_type": "code",
   "execution_count": 35,
   "id": "5927f3b4-2c67-446f-9e22-9de6f657b97e",
   "metadata": {},
   "outputs": [],
   "source": [
    "from pyspark.ml import Pipeline\n",
    "\n",
    "# Pipeline is used to pass the data through indexer and assembler simultaneously. \n",
    "#Also, it helps to pre-rocess the test data in the same way as that of the train data\n",
    "\n",
    "pipe = Pipeline(stages=[\n",
    "    assembler\n",
    "    ]\n",
    ")"
   ]
  },
  {
   "cell_type": "code",
   "execution_count": 36,
   "id": "b11938dc-8286-4717-a5b4-69b19e2741de",
   "metadata": {},
   "outputs": [],
   "source": [
    "fitted_pipe=pipe.fit(train_data)"
   ]
  },
  {
   "cell_type": "code",
   "execution_count": 37,
   "id": "69ab1d1b-2eac-4af2-aed0-fae03231845e",
   "metadata": {},
   "outputs": [
    {
     "name": "stdout",
     "output_type": "stream",
     "text": [
      "+--------+---------------+-------------+------------+------------+-----------+-----+-----------+--------------------+\n",
      "|VendorID|passenger_count|trip_distance|PULocationID|DOLocationID|fare_amount|extra|airport_fee|            features|\n",
      "+--------+---------------+-------------+------------+------------+-----------+-----+-----------+--------------------+\n",
      "|       1|              0|          0.0|         107|         107|        2.5|  2.5|        0.0|[1.0,0.0,0.0,107....|\n",
      "|       1|              0|          0.0|         112|         112|        2.5|  0.5|        0.0|[1.0,0.0,0.0,112....|\n",
      "|       1|              0|          0.0|         132|         132|        2.5| 1.25|       1.25|[1.0,0.0,0.0,132....|\n",
      "|       1|              0|          0.0|         145|         145|        2.5|  0.0|        0.0|(7,[0,3,4],[1.0,1...|\n",
      "|       1|              0|          0.0|         145|         145|        2.5|  0.0|        0.0|(7,[0,3,4],[1.0,1...|\n",
      "+--------+---------------+-------------+------------+------------+-----------+-----+-----------+--------------------+\n",
      "only showing top 5 rows\n",
      "\n"
     ]
    },
    {
     "name": "stderr",
     "output_type": "stream",
     "text": [
      "                                                                                \r"
     ]
    }
   ],
   "source": [
    "train_data=fitted_pipe.transform(train_data)\n",
    "train_data.show(5)"
   ]
  },
  {
   "cell_type": "code",
   "execution_count": 38,
   "id": "55ec2a2a-85b0-4af7-881b-f0e3a592ab3f",
   "metadata": {},
   "outputs": [
    {
     "name": "stdout",
     "output_type": "stream",
     "text": [
      "+--------+---------------+-------------+------------+------------+-----------+-----+-----------+--------------------+\n",
      "|VendorID|passenger_count|trip_distance|PULocationID|DOLocationID|fare_amount|extra|airport_fee|            features|\n",
      "+--------+---------------+-------------+------------+------------+-----------+-----+-----------+--------------------+\n",
      "|       1|              0|          0.0|          68|          68|        0.0|  0.0|        0.0|(7,[0,3,4],[1.0,6...|\n",
      "|       1|              0|          0.0|          75|          43|        2.5|  1.0|        0.0|[1.0,0.0,0.0,75.0...|\n",
      "|       1|              0|          0.0|         138|         138|       52.0| 5.75|       1.25|[1.0,0.0,0.0,138....|\n",
      "|       1|              0|          0.0|         145|         145|        2.5|  0.0|        0.0|(7,[0,3,4],[1.0,1...|\n",
      "|       1|              0|          0.0|         145|         145|        2.5|  0.0|        0.0|(7,[0,3,4],[1.0,1...|\n",
      "+--------+---------------+-------------+------------+------------+-----------+-----+-----------+--------------------+\n",
      "only showing top 5 rows\n",
      "\n"
     ]
    }
   ],
   "source": [
    "test_data=fitted_pipe.transform(test_data)\n",
    "test_data.show(5)"
   ]
  },
  {
   "cell_type": "markdown",
   "id": "a79bdf7f-a502-4dca-8aae-b10a7ae40c96",
   "metadata": {},
   "source": [
    "## Linear Regression"
   ]
  },
  {
   "cell_type": "code",
   "execution_count": 39,
   "id": "bc0f9d01-196e-4a3a-bc71-bc4d68d94b50",
   "metadata": {},
   "outputs": [
    {
     "name": "stderr",
     "output_type": "stream",
     "text": [
      "23/11/10 17:29:58 WARN Instrumentation: [47e4172b] regParam is zero, which might cause numerical instability and overfitting.\n",
      "                                                                                \r"
     ]
    }
   ],
   "source": [
    "from pyspark.ml.regression import LinearRegression\n",
    "\n",
    "lr_model = LinearRegression(featuresCol=\"features\", labelCol='fare_amount')\n",
    "fit_model = lr_model.fit(train_data)"
   ]
  },
  {
   "cell_type": "code",
   "execution_count": 40,
   "id": "5fa57dce-de84-4eab-9be6-3f7c77aab9cc",
   "metadata": {},
   "outputs": [
    {
     "name": "stdout",
     "output_type": "stream",
     "text": [
      "+--------+---------------+-------------+------------+------------+-----------+-----+-----------+--------------------+------------------+\n",
      "|VendorID|passenger_count|trip_distance|PULocationID|DOLocationID|fare_amount|extra|airport_fee|            features|        prediction|\n",
      "+--------+---------------+-------------+------------+------------+-----------+-----+-----------+--------------------+------------------+\n",
      "|       1|              0|          0.0|          68|          68|        0.0|  0.0|        0.0|(7,[0,3,4],[1.0,6...| 7.421059129353994|\n",
      "|       1|              0|          0.0|          75|          43|        2.5|  1.0|        0.0|[1.0,0.0,0.0,75.0...| 6.601134382244656|\n",
      "|       1|              0|          0.0|         138|         138|       52.0| 5.75|       1.25|[1.0,0.0,0.0,138....|2.6248425670543467|\n",
      "|       1|              0|          0.0|         145|         145|        2.5|  0.0|        0.0|(7,[0,3,4],[1.0,1...| 7.411153145471443|\n",
      "|       1|              0|          0.0|         145|         145|        2.5|  0.0|        0.0|(7,[0,3,4],[1.0,1...| 7.411153145471443|\n",
      "|       1|              0|          0.0|         186|          68|        2.5|  2.5|        0.0|[1.0,0.0,0.0,186....|5.3710126907233375|\n",
      "|       1|              0|          0.0|         229|         229|       57.0|  0.0|        0.0|(7,[0,3,4],[1.0,2...|7.4003466175995705|\n",
      "|       1|              0|          0.0|         264|         264|       13.0|  0.0|        0.0|(7,[0,3,4],[1.0,2...|7.3958438976529575|\n",
      "|       1|              0|          0.2|         140|         140|        3.0|  3.5|        0.0|[1.0,0.0,0.2,140....| 5.042837058722993|\n",
      "|       1|              0|          0.2|         161|         230|        3.5|  2.5|        0.0|[1.0,0.0,0.2,161....| 5.846799032234992|\n",
      "+--------+---------------+-------------+------------+------------+-----------+-----+-----------+--------------------+------------------+\n",
      "only showing top 10 rows\n",
      "\n"
     ]
    },
    {
     "name": "stderr",
     "output_type": "stream",
     "text": [
      "                                                                                \r"
     ]
    }
   ],
   "source": [
    "results = fit_model.transform(test_data)\n",
    "results.show(10)"
   ]
  },
  {
   "cell_type": "code",
   "execution_count": 41,
   "id": "370ed4c6-7732-4fea-bad0-4f811687b56b",
   "metadata": {},
   "outputs": [
    {
     "name": "stdout",
     "output_type": "stream",
     "text": [
      "+-----------+------------------+\n",
      "|fare_amount|        prediction|\n",
      "+-----------+------------------+\n",
      "|        0.0| 7.421059129353994|\n",
      "|        2.5| 6.601134382244656|\n",
      "|       52.0|2.6248425670543467|\n",
      "|        2.5| 7.411153145471443|\n",
      "|        2.5| 7.411153145471443|\n",
      "|        2.5|5.3710126907233375|\n",
      "|       57.0|7.4003466175995705|\n",
      "|       13.0|7.3958438976529575|\n",
      "|        3.0| 5.042837058722993|\n",
      "|        3.5| 5.846799032234992|\n",
      "|        3.5| 5.904402212574157|\n",
      "|        3.0|6.1400721292463984|\n",
      "|        3.0| 6.139814830963735|\n",
      "|        6.0| 6.151826743763168|\n",
      "|        4.5|  6.12746451339588|\n",
      "|        3.5|5.3035537307101315|\n",
      "|        4.0| 6.124248284862585|\n",
      "|        4.0| 7.660321197755027|\n",
      "|        5.0|  6.38195446728595|\n",
      "|        4.5| 5.561643772752618|\n",
      "+-----------+------------------+\n",
      "only showing top 20 rows\n",
      "\n"
     ]
    }
   ],
   "source": [
    "results.select(['fare_amount','prediction']).show()"
   ]
  },
  {
   "cell_type": "markdown",
   "id": "8107536e-0583-4149-9704-dea9dbfcd77f",
   "metadata": {},
   "source": [
    "## Evaluate the peformance of the Linear Regression Model"
   ]
  },
  {
   "cell_type": "code",
   "execution_count": 42,
   "id": "34af6105-a107-4479-82e2-ad652237d37c",
   "metadata": {},
   "outputs": [
    {
     "name": "stderr",
     "output_type": "stream",
     "text": [
      "                                                                                \r"
     ]
    }
   ],
   "source": [
    "test_results_lr = fit_model.evaluate(test_data)"
   ]
  },
  {
   "cell_type": "code",
   "execution_count": 43,
   "id": "1cf26678-cb40-4a01-ba13-9316503de2d9",
   "metadata": {},
   "outputs": [
    {
     "name": "stdout",
     "output_type": "stream",
     "text": [
      "+--------------------+\n",
      "|           residuals|\n",
      "+--------------------+\n",
      "|  -7.421059129353994|\n",
      "|  -4.101134382244656|\n",
      "|  49.375157432945656|\n",
      "|  -4.911153145471443|\n",
      "|  -4.911153145471443|\n",
      "| -2.8710126907233375|\n",
      "|   49.59965338240043|\n",
      "|  5.6041561023470425|\n",
      "|  -2.042837058722993|\n",
      "| -2.3467990322349923|\n",
      "| -2.4044022125741566|\n",
      "| -3.1400721292463984|\n",
      "| -3.1398148309637346|\n",
      "|-0.15182674376316818|\n",
      "| -1.6274645133958803|\n",
      "| -1.8035537307101315|\n",
      "| -2.1242482848625848|\n",
      "|  -3.660321197755027|\n",
      "| -1.3819544672859498|\n",
      "| -1.0616437727526176|\n",
      "+--------------------+\n",
      "only showing top 20 rows\n",
      "\n"
     ]
    },
    {
     "name": "stderr",
     "output_type": "stream",
     "text": [
      "                                                                                \r"
     ]
    }
   ],
   "source": [
    "test_results_lr.residuals.show()"
   ]
  },
  {
   "cell_type": "code",
   "execution_count": 44,
   "id": "61467348-c53d-4f2b-80ab-27fd7c315ee0",
   "metadata": {},
   "outputs": [
    {
     "name": "stdout",
     "output_type": "stream",
     "text": [
      "RMSE LinearReg:   5.806\n",
      "MAE LinearReg:   2.140\n",
      "MSE LinearReg:  33.713\n",
      "R2 LinearReg:   0.747\n"
     ]
    }
   ],
   "source": [
    "rmse_linear=test_results_lr.rootMeanSquaredError\n",
    "r2_linear=test_results_lr.r2\n",
    "\n",
    "print(f\"{'RMSE LinearReg:':7s} {test_results_lr.rootMeanSquaredError:>7.3f}\")\n",
    "print(f\"{'MAE LinearReg:':7s} {test_results_lr.meanAbsoluteError:>7.3f}\")\n",
    "print(f\"{'MSE LinearReg:':7s} {test_results_lr.meanSquaredError:>7.3f}\")\n",
    "print(f\"{'R2 LinearReg:':7s} {test_results_lr.r2:>7.3f}\")"
   ]
  },
  {
   "cell_type": "markdown",
   "id": "86c0f48e-48ce-4b3b-a2dc-ea75da3c8983",
   "metadata": {},
   "source": [
    "## Decision Tree "
   ]
  },
  {
   "cell_type": "code",
   "execution_count": 45,
   "id": "04b2636f-553e-4cad-8549-f8d8cdc99676",
   "metadata": {},
   "outputs": [],
   "source": [
    "from pyspark.ml.regression import  DecisionTreeRegressor"
   ]
  },
  {
   "cell_type": "code",
   "execution_count": 46,
   "id": "52d98977-7750-4d6a-b85c-c8f332b66bf6",
   "metadata": {},
   "outputs": [
    {
     "name": "stderr",
     "output_type": "stream",
     "text": [
      "                                                                                \r"
     ]
    }
   ],
   "source": [
    "dt_model = DecisionTreeRegressor(labelCol='fare_amount',maxBins=5000)\n",
    "fit_model = dt_model.fit(train_data.select(['features','fare_amount']))"
   ]
  },
  {
   "cell_type": "code",
   "execution_count": 47,
   "id": "bdb0587e-630f-4c32-b22a-ae5a2ba6fa90",
   "metadata": {},
   "outputs": [],
   "source": [
    "pipe = Pipeline(\n",
    "    stages=[\n",
    "        assembler,\n",
    "        dt_model\n",
    "    ]\n",
    ")"
   ]
  },
  {
   "cell_type": "code",
   "execution_count": 48,
   "id": "d2167c77-d814-43d4-a9c6-40e84cedf990",
   "metadata": {},
   "outputs": [],
   "source": [
    "results_dt = fit_model.transform(test_data)"
   ]
  },
  {
   "cell_type": "code",
   "execution_count": 49,
   "id": "c3c17cca-6ca5-4327-9a62-2aa317459cf2",
   "metadata": {},
   "outputs": [
    {
     "name": "stdout",
     "output_type": "stream",
     "text": [
      "+-----------+-----------------+\n",
      "|fare_amount|       prediction|\n",
      "+-----------+-----------------+\n",
      "|        0.0|19.76913923402073|\n",
      "|        2.5|19.76913923402073|\n",
      "|       52.0|19.76913923402073|\n",
      "|        2.5|19.76913923402073|\n",
      "|        2.5|19.76913923402073|\n",
      "|        2.5|19.76913923402073|\n",
      "|       57.0|19.76913923402073|\n",
      "|       13.0|19.76913923402073|\n",
      "|        3.0|6.443266907364691|\n",
      "|        3.5|6.443266907364691|\n",
      "|        3.5|6.443266907364691|\n",
      "|        3.0|6.443266907364691|\n",
      "|        3.0|6.443266907364691|\n",
      "|        6.0|6.443266907364691|\n",
      "|        4.5|6.443266907364691|\n",
      "|        3.5|6.443266907364691|\n",
      "|        4.0|6.443266907364691|\n",
      "|        4.0|6.443266907364691|\n",
      "|        5.0|6.443266907364691|\n",
      "|        4.5|6.443266907364691|\n",
      "+-----------+-----------------+\n",
      "only showing top 20 rows\n",
      "\n"
     ]
    }
   ],
   "source": [
    "results_dt.select(['fare_amount','prediction']).show()"
   ]
  },
  {
   "cell_type": "code",
   "execution_count": 50,
   "id": "583e471e-3128-4c5b-a5f2-1f0db2b66bee",
   "metadata": {},
   "outputs": [
    {
     "name": "stderr",
     "output_type": "stream",
     "text": [
      "                                                                                \r"
     ]
    }
   ],
   "source": [
    "from pyspark.ml.evaluation import RegressionEvaluator\n",
    "# Define the evaluator\n",
    "evaluator = RegressionEvaluator(labelCol=\"fare_amount\", predictionCol=\"prediction\")\n",
    "\n",
    "# Calculate the metrics\n",
    "rmse_dtree = evaluator.evaluate(results_dt, {evaluator.metricName: \"rmse\"})\n",
    "mae_dtree = evaluator.evaluate(results_dt, {evaluator.metricName: \"mae\"})\n",
    "mse_dtree = evaluator.evaluate(results_dt, {evaluator.metricName: \"mse\"})\n",
    "r2_dtree = evaluator.evaluate(results_dt, {evaluator.metricName: \"r2\"})"
   ]
  },
  {
   "cell_type": "code",
   "execution_count": 51,
   "id": "215bf651-6275-44ea-8fc2-42e5789303fe",
   "metadata": {},
   "outputs": [
    {
     "name": "stdout",
     "output_type": "stream",
     "text": [
      "RMSE Dtree:   5.295\n",
      "MAE Dtree:   2.105\n",
      "MSE Dtree:  28.042\n",
      "R2 Dtree:   0.789\n"
     ]
    }
   ],
   "source": [
    "# Print the metrics\n",
    "print(f\"{'RMSE Dtree:':7s} {rmse_dtree:>7.3f}\")\n",
    "print(f\"{'MAE Dtree:':7s} {mae_dtree:>7.3f}\")\n",
    "print(f\"{'MSE Dtree:':7s} {mse_dtree:>7.3f}\")\n",
    "print(f\"{'R2 Dtree:':7s} {r2_dtree:>7.3f}\")"
   ]
  },
  {
   "cell_type": "markdown",
   "id": "f94b217a-4337-4cc1-a10e-51c828093171",
   "metadata": {},
   "source": [
    "## RANDOM FOREST"
   ]
  },
  {
   "cell_type": "code",
   "execution_count": 52,
   "id": "003396a5-9a49-4a52-a0c0-d3aabf2ef3ad",
   "metadata": {},
   "outputs": [
    {
     "name": "stderr",
     "output_type": "stream",
     "text": [
      "23/11/10 17:30:16 WARN MemoryStore: Not enough space to cache rdd_294_6 in memory! (computed 18.4 MiB so far)\n",
      "23/11/10 17:30:16 WARN MemoryStore: Not enough space to cache rdd_294_0 in memory! (computed 18.4 MiB so far)\n",
      "23/11/10 17:30:16 WARN BlockManager: Persisting block rdd_294_6 to disk instead.\n",
      "23/11/10 17:30:16 WARN BlockManager: Persisting block rdd_294_0 to disk instead.\n",
      "23/11/10 17:30:16 WARN MemoryStore: Not enough space to cache rdd_294_4 in memory! (computed 18.4 MiB so far)\n",
      "23/11/10 17:30:16 WARN BlockManager: Persisting block rdd_294_4 to disk instead.\n",
      "23/11/10 17:30:16 WARN MemoryStore: Not enough space to cache rdd_294_10 in memory! (computed 18.4 MiB so far)\n",
      "23/11/10 17:30:16 WARN BlockManager: Persisting block rdd_294_10 to disk instead.\n",
      "23/11/10 17:30:16 WARN MemoryStore: Not enough space to cache rdd_294_8 in memory! (computed 18.4 MiB so far)\n",
      "23/11/10 17:30:16 WARN BlockManager: Persisting block rdd_294_8 to disk instead.\n",
      "23/11/10 17:30:16 WARN MemoryStore: Not enough space to cache rdd_294_2 in memory! (computed 18.4 MiB so far)\n",
      "23/11/10 17:30:16 WARN BlockManager: Persisting block rdd_294_2 to disk instead.\n",
      "23/11/10 17:30:16 WARN MemoryStore: Not enough space to cache rdd_294_9 in memory! (computed 18.4 MiB so far)\n",
      "23/11/10 17:30:16 WARN BlockManager: Persisting block rdd_294_9 to disk instead.\n",
      "23/11/10 17:30:16 WARN MemoryStore: Not enough space to cache rdd_294_5 in memory! (computed 18.4 MiB so far)\n",
      "23/11/10 17:30:16 WARN BlockManager: Persisting block rdd_294_5 to disk instead.\n",
      "23/11/10 17:30:16 WARN MemoryStore: Not enough space to cache rdd_294_13 in memory! (computed 18.4 MiB so far)\n",
      "23/11/10 17:30:16 WARN BlockManager: Persisting block rdd_294_13 to disk instead.\n",
      "23/11/10 17:30:16 WARN MemoryStore: Not enough space to cache rdd_294_11 in memory! (computed 18.4 MiB so far)\n",
      "23/11/10 17:30:16 WARN BlockManager: Persisting block rdd_294_11 to disk instead.\n",
      "                                                                                \r"
     ]
    }
   ],
   "source": [
    "from pyspark.ml.regression import RandomForestRegressor\n",
    "\n",
    "# Random Forest model\n",
    "rf_model = RandomForestRegressor(labelCol='fare_amount', featuresCol='features', numTrees=100, maxBins=260)\n",
    "fit_model = rf_model.fit(train_data.select(['features','fare_amount']))"
   ]
  },
  {
   "cell_type": "code",
   "execution_count": 53,
   "id": "d58ffdd7-262e-4f4c-aa2c-288ee1dcfdaa",
   "metadata": {},
   "outputs": [],
   "source": [
    "pipe = Pipeline(\n",
    "    stages=[\n",
    "        assembler,\n",
    "        rf_model\n",
    "    ]\n",
    ")"
   ]
  },
  {
   "cell_type": "code",
   "execution_count": 54,
   "id": "fc337b3d-1902-4c68-b137-81f032fab0a2",
   "metadata": {},
   "outputs": [
    {
     "name": "stderr",
     "output_type": "stream",
     "text": [
      "WARNING: An illegal reflective access operation has occurred\n",
      "WARNING: Illegal reflective access by org.apache.spark.util.SizeEstimator$ (file:/home/student/miniconda3/lib/python3.10/site-packages/pyspark/jars/spark-core_2.12-3.5.0.jar) to field java.nio.charset.Charset.name\n",
      "WARNING: Please consider reporting this to the maintainers of org.apache.spark.util.SizeEstimator$\n",
      "WARNING: Use --illegal-access=warn to enable warnings of further illegal reflective access operations\n",
      "WARNING: All illegal access operations will be denied in a future release\n"
     ]
    }
   ],
   "source": [
    "results_rf = fit_model.transform(test_data)"
   ]
  },
  {
   "cell_type": "code",
   "execution_count": 55,
   "id": "2cf2a95b-eb74-43e7-8ab2-f0db2e666bf2",
   "metadata": {},
   "outputs": [
    {
     "name": "stdout",
     "output_type": "stream",
     "text": [
      "+-----------+------------------+\n",
      "|fare_amount|        prediction|\n",
      "+-----------+------------------+\n",
      "|        0.0|11.086765013906088|\n",
      "|        2.5|10.624798653139798|\n",
      "|       52.0|25.254318491471025|\n",
      "|        2.5|10.724375766416586|\n",
      "|        2.5|10.724375766416586|\n",
      "|        2.5|10.296719259894244|\n",
      "|       57.0|10.724375766416586|\n",
      "|       13.0|10.934101645387832|\n",
      "|        3.0|7.7752278642822095|\n",
      "|        3.5|7.7752278642822095|\n",
      "|        3.5| 7.809537718526151|\n",
      "|        3.0|7.7752278642822095|\n",
      "|        3.0|7.7752278642822095|\n",
      "|        6.0|7.7752278642822095|\n",
      "|        4.5|7.7752278642822095|\n",
      "|        3.5|7.7752278642822095|\n",
      "|        4.0|7.7752278642822095|\n",
      "|        4.0| 7.820787203221438|\n",
      "|        5.0| 7.794736216271311|\n",
      "|        4.5| 7.794736216271311|\n",
      "+-----------+------------------+\n",
      "only showing top 20 rows\n",
      "\n"
     ]
    }
   ],
   "source": [
    "# Make predictions on the test data\n",
    "results_rf.select(['fare_amount', 'prediction']).show()"
   ]
  },
  {
   "cell_type": "markdown",
   "id": "975c588a-1147-4422-8762-9cdd9da16b24",
   "metadata": {},
   "source": [
    "### Evaluating the model"
   ]
  },
  {
   "cell_type": "code",
   "execution_count": 56,
   "id": "a604df2f-0afd-48f8-8bf5-d91501b25868",
   "metadata": {},
   "outputs": [
    {
     "name": "stderr",
     "output_type": "stream",
     "text": [
      "                                                                                \r"
     ]
    }
   ],
   "source": [
    "# Evaluate the Random Forest model\n",
    "evaluator = RegressionEvaluator(labelCol=\"fare_amount\", predictionCol=\"prediction\")\n",
    "\n",
    "rmse_rf = evaluator.evaluate(results_rf, {evaluator.metricName: \"rmse\"})\n",
    "mae_rf = evaluator.evaluate(results_rf, {evaluator.metricName: \"mae\"})\n",
    "mse_rf = evaluator.evaluate(results_rf, {evaluator.metricName: \"mse\"})\n",
    "r2_rf = evaluator.evaluate(results_rf, {evaluator.metricName: \"r2\"})"
   ]
  },
  {
   "cell_type": "code",
   "execution_count": 57,
   "id": "aca85393-6a3e-412d-9a49-deabe000e2b3",
   "metadata": {},
   "outputs": [
    {
     "name": "stdout",
     "output_type": "stream",
     "text": [
      "RMSE (Random Forest):    5.473\n",
      "MAE (Random Forest):     2.361\n",
      "MSE (Random Forest):    29.956\n",
      "R2 (Random Forest):      0.775\n"
     ]
    }
   ],
   "source": [
    "print(f\"{'RMSE (Random Forest):':22s} {rmse_rf:>7.3f}\")\n",
    "print(f\"{'MAE (Random Forest):':22s} {mae_rf:>7.3f}\")\n",
    "print(f\"{'MSE (Random Forest):':22s} {mse_rf:>7.3f}\")\n",
    "print(f\"{'R2 (Random Forest):':22s} {r2_rf:>7.3f}\")"
   ]
  },
  {
   "cell_type": "markdown",
   "id": "dc8db8b1-4f78-466d-8819-d6dcf4a02579",
   "metadata": {},
   "source": [
    "# RESULTS"
   ]
  },
  {
   "cell_type": "markdown",
   "id": "d3f4fc02-5ea7-40bd-b1ef-6fe206bd8a62",
   "metadata": {},
   "source": [
    "We built 3 models for predicting the fare price based on the input features like VendorID, Pickup location and drop off location ID's, airport fee, extra charges, total trip distance, and passenger count.\n",
    "\n",
    "Upon evaluating metrics, these are the results:\n"
   ]
  },
  {
   "cell_type": "code",
   "execution_count": 58,
   "id": "71f7ea14-76e1-422a-8b49-27cf00d30a71",
   "metadata": {},
   "outputs": [
    {
     "name": "stdout",
     "output_type": "stream",
     "text": [
      "Linear regression Model\n",
      "RMSE :                5.81\n",
      "R-squared error :     0.75\n",
      "*****************************\n",
      "Decision Tree Model\n",
      "RMSE :                5.30\n",
      "R-squared error:      0.79\n",
      "*****************************\n",
      "Random Forest Model\n",
      "RMSE :                5.47\n",
      "R-squared error :     0.78\n"
     ]
    }
   ],
   "source": [
    "print(f\"{'Linear regression Model'}\")\n",
    "print(f\"{'RMSE :':22s}{rmse_linear:.2f}\")\n",
    "print(f\"{'R-squared error :':22s}{r2_linear:.2f}\")\n",
    "\n",
    "print(\"*****************************\")\n",
    "print(f\"{'Decision Tree Model'}\")\n",
    "print(f\"{'RMSE :':22s}{rmse_dtree:.2f}\")\n",
    "print(f\"{'R-squared error:':22s}{r2_dtree:.2f}\")\n",
    "\n",
    "print(\"*****************************\")\n",
    "print(f\"{'Random Forest Model'}\")\n",
    "print(f\"{'RMSE :':22s}{rmse_rf:.2f}\")\n",
    "print(f\"{'R-squared error :':22s}{r2_rf:.2f}\")"
   ]
  },
  {
   "cell_type": "markdown",
   "id": "52c5bf85-115c-4907-a4ea-dae0fd48fcbc",
   "metadata": {},
   "source": [
    "## CONCLUSION"
   ]
  },
  {
   "cell_type": "markdown",
   "id": "5a053844-f655-4748-a084-400a3658ace8",
   "metadata": {},
   "source": [
    "Lower RMSE values indicate a better fit of the model to the data. On the other hand, higher R-squared values indicate that the model explains a larger portion of the variance in the data.\n",
    "\n",
    "Lower RMSE and higher R-squared values are generally preferred.\n",
    "Hence based on the above results, we can conclude that Decision tree model outperforms the other two models with least RMSE value by providing the best balance between accuracy and fit to the data.\n",
    "\n",
    "This implies that, on average, our fare predictions deviate from the actual fare by approximately $5.30.\n"
   ]
  },
  {
   "cell_type": "markdown",
   "id": "77d721f4-942b-4194-b02d-2d6878e693ff",
   "metadata": {},
   "source": [
    "## Stopping the Spark Session"
   ]
  },
  {
   "cell_type": "code",
   "execution_count": 59,
   "id": "a623cf95-8298-4f0d-a072-9b9e7ec896f9",
   "metadata": {},
   "outputs": [],
   "source": [
    "spark.stop()"
   ]
  }
 ],
 "metadata": {
  "kernelspec": {
   "display_name": "Python 3 (ipykernel)",
   "language": "python",
   "name": "python3"
  },
  "language_info": {
   "codemirror_mode": {
    "name": "ipython",
    "version": 3
   },
   "file_extension": ".py",
   "mimetype": "text/x-python",
   "name": "python",
   "nbconvert_exporter": "python",
   "pygments_lexer": "ipython3",
   "version": "3.10.12"
  }
 },
 "nbformat": 4,
 "nbformat_minor": 5
}
